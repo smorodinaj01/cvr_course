{
 "cells": [
  {
   "cell_type": "code",
   "execution_count": 1,
   "id": "232b4ed7",
   "metadata": {},
   "outputs": [
    {
     "name": "stderr",
     "output_type": "stream",
     "text": [
      "Warning: Ignoring XDG_SESSION_TYPE=wayland on Gnome. Use QT_QPA_PLATFORM=wayland to run on Wayland anyway.\n"
     ]
    },
    {
     "data": {
      "text/plain": [
       "-1"
      ]
     },
     "execution_count": 1,
     "metadata": {},
     "output_type": "execute_result"
    }
   ],
   "source": [
    "import numpy as np\n",
    "import cv2\n",
    "\n",
    "cam = cv2.VideoCapture(0)\n",
    "\n",
    "while(True):\n",
    "    ret, frame = cam.read()\n",
    "    \n",
    "    #print(frame.shape)\n",
    "    \n",
    "    frame = 255 - frame\n",
    "    \n",
    "    hsv_frame = cv2.cvtColor(frame, cv2.COLOR_BGR2HSV)\n",
    "    \n",
    "    mask = cv2.inRange(frame, (120, 130, 30), (190, 200, 240))\n",
    "    \n",
    "    cv2.imshow(\"hsv\", hsv_frame)\n",
    "    \n",
    "    opened = cv2.morphologyEx(mask, cv2.MORPH_ERODE, kernel = np.ones((7, 7)))\n",
    "    \n",
    "    masks = np.concatenate((mask, opened), axis=1)\n",
    "    \n",
    "    cv2.imshow(\"mask\", masks)\n",
    "    \n",
    "    k = cv2.waitKey(10) & 0xFF\n",
    "    \n",
    "    if (not ret):\n",
    "        break\n",
    "    \n",
    "    if (k == ord('q')):\n",
    "        break\n",
    "\n",
    "cam.release()\n",
    "cv2.destroyAllWindows()\n",
    "cv2.waitKey(10)"
   ]
  },
  {
   "cell_type": "markdown",
   "id": "8842c222",
   "metadata": {},
   "source": [
    "https://docs.opencv.org/3.4/da/d6a/tutorial_trackbar.html\n",
    "\n",
    "https://docs.opencv.org/4.x/d9/d61/tutorial_py_morphological_ops.html\n",
    "\n"
   ]
  }
 ],
 "metadata": {
  "kernelspec": {
   "display_name": "Python 3 (ipykernel)",
   "language": "python",
   "name": "python3"
  },
  "language_info": {
   "codemirror_mode": {
    "name": "ipython",
    "version": 3
   },
   "file_extension": ".py",
   "mimetype": "text/x-python",
   "name": "python",
   "nbconvert_exporter": "python",
   "pygments_lexer": "ipython3",
   "version": "3.10.4"
  }
 },
 "nbformat": 4,
 "nbformat_minor": 5
}
