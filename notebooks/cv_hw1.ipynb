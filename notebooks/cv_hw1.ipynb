{
 "cells": [
  {
   "cell_type": "markdown",
   "id": "72ef94a4",
   "metadata": {
    "id": "6af5dede"
   },
   "source": [
    "## Компьютерное зрение в робототехнике | Домашнее задание 2\n",
    "\n",
    "В этом домашнем задании нужно будет реализовать подсчет числа пальцев, которые показывает человек на видео fingers.mov из папки data.\n",
    "\n",
    "Для удобства реализации значительная часть кода уже написана. Внимательно изнакомьтесь с заготовками, поймите, что происходит в коде и для чего нужна каждая конкретная функция.\n",
    "\n",
    "Есть много вариантов, как можно подступиться к этой задаче. Приведем некоторые из них:\n",
    "\n",
    "**Скелетонизация**\n",
    "- получение маски\n",
    "- обработка (фильтрация шумов, сглаживание)\n",
    "- удаление всего, кроме самой большой связной компоненты\n",
    "- скелетонизация (можно загуглить opencv skeletonization)\n",
    "- нахождение кончиков пальцев (filter2d)\n",
    "- фильтрация кончиков пальцев\n",
    "\n",
    "**Дефекты выпуклости**\n",
    "- получение маски\n",
    "- обработка (фильтрация шумов, сглаживание)\n",
    "- удаление всего, кроме самой большой связной компоненты\n",
    "- нахождение контура, построение грубой аппроксимации\n",
    "- нахождение дефектов выпуклости (convexity defects)\n",
    "\n",
    "**Морфология**\n",
    "- получение маски\n",
    "- обработка (фильтрация шумов, сглаживание)\n",
    "- удаление всего, кроме самой большой связной компоненты\n",
    "- морфологические операции top hat/black hat\n",
    "\n",
    "Можно выбрать любой из этих способов, который по душе, или придумать свой. Нейронные сети и другие методы машинного обучения использовать в решении нельзя :)"
   ]
  },
  {
   "cell_type": "markdown",
   "id": "e4348579",
   "metadata": {
    "id": "1d05ffb1"
   },
   "source": [
    "<h2 style=\"color:#A7BD3F;\">Секция 1: подготовка</h2>\n",
    "\n",
    "Этот код представляет из себя в сущности обертку над функцией обработки кадра. Завершение выполнения производится с помощью нажатия кнопки 'q' (работает только для английского языка)."
   ]
  },
  {
   "cell_type": "code",
   "execution_count": 1,
   "id": "3629edb1",
   "metadata": {},
   "outputs": [],
   "source": [
    "import numpy as np\n",
    "import cv2"
   ]
  },
  {
   "cell_type": "code",
   "execution_count": 2,
   "id": "737ae074",
   "metadata": {
    "id": "e80f4d80"
   },
   "outputs": [],
   "source": [
    "class FrameProcessor:\n",
    "    def __init__(self):\n",
    "        pass\n",
    "    \n",
    "    def processing_loop(self, source, lth, hth, max_frame_num = -1,\\\n",
    "                        alternative_source=\"\", save_to_file=\"\"):\n",
    "        i = 0\n",
    "        results = []\n",
    "\n",
    "        output_file = None\n",
    "        \n",
    "        #out = cv2.VideoWriter('outpy.avi', cv2.VideoWriter_fourcc('M','J','P','G'),\n",
    "#                               30, (WINDX, WINDY))\n",
    "#         out.write(canvas)\n",
    "#         out.release()\n",
    "        \n",
    "        while (True):\n",
    "            retval, frame = source.read()\n",
    "\n",
    "            if (retval == False):\n",
    "                print(\"Cannot read frame\")\n",
    "                \n",
    "                if (alternative_source != \"\"):\n",
    "                    print(\"Opening alternative source \", alternative_source)\n",
    "                    source = cv2.VideoCapture(alternative_source)\n",
    "                    continue\n",
    "                \n",
    "                else:\n",
    "                    print(\"Exiting loop\")\n",
    "                    break\n",
    "\n",
    "            result = self.process_frame(frame, lth, hth)\n",
    "            results.append(result)\n",
    "            key = cv2.waitKey(100) & 0xFF\n",
    "\n",
    "            i += 1\n",
    "\n",
    "            if (key == ord('q')):\n",
    "                break\n",
    "                        \n",
    "            if (max_frame_num != -1 and i >= max_frame_num):\n",
    "                break\n",
    "\n",
    "        return results\n",
    "    \n",
    "    def process_frame(self, frame, lth, hth):\n",
    "        return 5"
   ]
  },
  {
   "cell_type": "markdown",
   "id": "b1156fc2",
   "metadata": {
    "id": "db713c09"
   },
   "source": [
    "<h2 style=\"color:#A7BD3F;\">Секция 2: настройка цветового фильтра</h2>\n",
    "\n",
    "Настройте параметры фильтрации по цвету. Это нужно делать в цветовом пространстве *HSV*. После этого запишите найденные параметры в *lth* и *hth*, их можно будет использовать позже."
   ]
  },
  {
   "cell_type": "code",
   "execution_count": 3,
   "id": "908ac5d0",
   "metadata": {
    "id": "58488c3b"
   },
   "outputs": [],
   "source": [
    "# YOUR DEFAULT PARAMETERS BELOW\n",
    "lth, hth = (0, 0, 0), (255, 255, 255)\n",
    "# YOUR DEFAULT PARAMETERS ABOVE\n",
    "\n",
    "class ColorFilterTuning(FrameProcessor):\n",
    "    def __init__(self):\n",
    "        super().__init__()\n",
    "        \n",
    "        cv2.namedWindow(\"color_filter_parameters\")\n",
    "                \n",
    "        cv2.createTrackbar('rl', 'color_filter_parameters', lth[0], 255, self.nothing)\n",
    "        cv2.createTrackbar('gl', 'color_filter_parameters', lth[1], 255, self.nothing)\n",
    "        cv2.createTrackbar('bl', 'color_filter_parameters', lth[2], 255, self.nothing)\n",
    "        cv2.createTrackbar('rh', 'color_filter_parameters', hth[0], 255, self.nothing)\n",
    "        cv2.createTrackbar('gh', 'color_filter_parameters', hth[1], 255, self.nothing)\n",
    "        cv2.createTrackbar('bh', 'color_filter_parameters', hth[2], 255, self.nothing)\n",
    "\n",
    "    def nothing(self, inp):\n",
    "        pass\n",
    "    \n",
    "    def process_frame(self, frame, lth, hth):\n",
    "        hsv = cv2.cvtColor(frame, cv2.COLOR_RGB2HSV)\n",
    "        \n",
    "        low_th =  (cv2.getTrackbarPos('rl', 'color_filter_parameters'),\n",
    "                   cv2.getTrackbarPos('gl', 'color_filter_parameters'),\n",
    "                   cv2.getTrackbarPos('bl', 'color_filter_parameters'))\n",
    "        \n",
    "        high_th = (cv2.getTrackbarPos('rh', 'color_filter_parameters'),\n",
    "                   cv2.getTrackbarPos('gh', 'color_filter_parameters'),\n",
    "                   cv2.getTrackbarPos('bh', 'color_filter_parameters'))\n",
    "        \n",
    "        mask = cv2.inRange(hsv, low_th, high_th)\n",
    "        \n",
    "        cv2.imshow(\"frame\", frame)\n",
    "        cv2.imshow(\"mask\", mask)\n",
    "        \n",
    "        return (low_th, high_th)"
   ]
  },
  {
   "cell_type": "code",
   "execution_count": 4,
   "id": "26c5fe92",
   "metadata": {},
   "outputs": [
    {
     "name": "stdout",
     "output_type": "stream",
     "text": [
      "/home/zhanna\n"
     ]
    }
   ],
   "source": [
    "cd"
   ]
  },
  {
   "cell_type": "code",
   "execution_count": 5,
   "id": "2fb60934",
   "metadata": {},
   "outputs": [
    {
     "name": "stdout",
     "output_type": "stream",
     "text": [
      "/home/zhanna/jupyter_env/cvr_course/data/videos\n"
     ]
    }
   ],
   "source": [
    "cd jupyter_env/cvr_course/data/videos"
   ]
  },
  {
   "cell_type": "markdown",
   "id": "6224c502",
   "metadata": {},
   "source": [
    "**Проверяем, что видео находится и открывается**"
   ]
  },
  {
   "cell_type": "code",
   "execution_count": 6,
   "id": "57b1fc99",
   "metadata": {
    "id": "f2626571",
    "outputId": "74248ba8-50d5-4826-c178-3a409435dd43"
   },
   "outputs": [
    {
     "name": "stdout",
     "output_type": "stream",
     "text": [
      "< cv2.VideoCapture 0x7fdd86b75550>\n"
     ]
    },
    {
     "name": "stderr",
     "output_type": "stream",
     "text": [
      "Warning: Ignoring XDG_SESSION_TYPE=wayland on Gnome. Use QT_QPA_PLATFORM=wayland to run on Wayland anyway.\n"
     ]
    },
    {
     "name": "stdout",
     "output_type": "stream",
     "text": [
      "Cannot read frame\n",
      "Opening alternative source  fingers.mov\n",
      "Cannot read frame\n",
      "Opening alternative source  fingers.mov\n",
      "Cannot read frame\n",
      "Opening alternative source  fingers.mov\n",
      "Color filter parameters:  (71, 68, 133) (255, 255, 255)\n"
     ]
    },
    {
     "data": {
      "text/plain": [
       "-1"
      ]
     },
     "execution_count": 6,
     "metadata": {},
     "output_type": "execute_result"
    }
   ],
   "source": [
    "video_file = \"fingers.mov\"\n",
    "\n",
    "cam = cv2.VideoCapture(video_file)\n",
    " \n",
    "print(cam)\n",
    "frame_offset = 100\n",
    "cam.set(1, frame_offset)\n",
    "\n",
    "tuner = ColorFilterTuning()\n",
    "\n",
    "colors = tuner.processing_loop(cam, None, None, max_frame_num = -1,\\\n",
    "            alternative_source=video_file)\n",
    "lth, hth = colors[-1]\n",
    "\n",
    "print(\"Color filter parameters: \", lth, hth)\n",
    "cam.release()\n",
    "cv2.waitKey(0)\n",
    "cv2.destroyAllWindows()\n",
    "cv2.waitKey(100)"
   ]
  },
  {
   "cell_type": "markdown",
   "id": "60e60763",
   "metadata": {
    "id": "56580828"
   },
   "source": [
    "<h2 style=\"color:#A7BD3F;\">Секция 3: подсчет пальцев</h2>\n",
    "\n",
    "Реализуйте алгоритм нахождения числа пальцев, закомментировав функцию, которая всегда возвращает 3 и написав свою. Вы можете использовать *lth* и *hth*, которые получили выше. Заготовленные функции для обработки масок можно использовать, а можно и не использовать."
   ]
  },
  {
   "cell_type": "code",
   "execution_count": 13,
   "id": "221fca68",
   "metadata": {},
   "outputs": [],
   "source": [
    "class FingersCounter(FrameProcessor):\n",
    "    def __init__(self):\n",
    "        super().__init__()\n",
    "\n",
    "    def filter_cc(self, mask, area_th = -1):\n",
    "        connectivity = 4\n",
    "        output = cv2.connectedComponentsWithStats(mask, connectivity, cv2.CV_32S)\n",
    "        num_labels = output[0]\n",
    "        labels = output[1]\n",
    "        stats = output[2]\n",
    "        #centroids = output[3]\n",
    "\n",
    "        if (num_labels < 1):\n",
    "            return mask\n",
    "        \n",
    "        if (area_th == -1):\n",
    "            max_area = 1\n",
    "            max_label = 1\n",
    "            \n",
    "            for i in range(1, num_labels):\n",
    "                area = stats[i, cv2.CC_STAT_AREA]\n",
    "                \n",
    "                if (area > max_area):\n",
    "                    max_area = area\n",
    "                    max_label = i\n",
    "            \n",
    "            for i in range(1, len(stats)):\n",
    "                if (i != max_label):\n",
    "                    mask[np.where(labels == i)] = 0\n",
    "                    \n",
    "        else:\n",
    "            for i in range(len(stats)):\n",
    "                area = stats[i, cv2.CC_STAT_AREA]\n",
    "\n",
    "                if (area < area_th):\n",
    "                    mask[np.where(labels == i)] = 0\n",
    "\n",
    "        return mask\n",
    "    \n",
    "    def fill_holes (self, img):\n",
    "        (h, w) = img.shape\n",
    "\n",
    "        before_area = img.sum ()\n",
    "\n",
    "        img_enlarged = np.zeros ((h + 2, w + 2), np.uint8)\n",
    "        img_enlarged [1:h+1, 1:w+1] = img\n",
    "\n",
    "        img_enl_not = cv2.bitwise_not (img_enlarged)\n",
    "        th, im_th = cv2.threshold (img_enl_not, 220, 255, cv2.THRESH_BINARY_INV);\n",
    "\n",
    "        im_floodfill = im_th.copy()\n",
    "\n",
    "        h, w = im_th.shape[:2]\n",
    "        mask = np.zeros((h+2, w+2), np.uint8)\n",
    "\n",
    "        cv2.floodFill(im_floodfill, mask, (0,0), 255);\n",
    "        im_floodfill_inv = cv2.bitwise_not(im_floodfill)\n",
    "        im_out = im_th | im_floodfill_inv\n",
    "\n",
    "        result = im_out [1:h-1, 1:w-1]\n",
    " \n",
    "        return result\n",
    "\n",
    "     # YOUR CODE BELOW\n",
    "    \n",
    "    def calc_contour(self,k1,k2,msk):\n",
    "        skeleton = self.skeletonize(msk)\n",
    "        edge=cv2.filter2D(src=msk, ddepth=-1, kernel=k2)\n",
    "        edge1=cv2.dilate(edge, k1, iterations=1)\n",
    "        skel1 = cv2.dilate(skeleton, k1, iterations=1)\n",
    "        x=cv2.bitwise_or(edge1, skel1)\n",
    "        x=cv2.dilate(x, k1, iterations=2)\n",
    "        x=cv2.erode(x,k1,iterations=2)\n",
    "        x=cv2.bitwise_xor(x, msk)\n",
    "        x=cv2.morphologyEx(x, cv2.MORPH_OPEN, k1)\n",
    "        contours,_=cv2.findContours(x, cv2.RETR_LIST, cv2.CHAIN_APPROX_NONE)\n",
    "        return contours\n",
    "    \n",
    "    def process_frame(self, frame, lth, hth):\n",
    "        perc = 5\n",
    "        fingers_num = 0\n",
    "        fltrd_frame = cv2.medianBlur(frame, perc) \n",
    "        hsv=cv2.cvtColor(fltrd_frame, cv2.COLOR_RGB2HSV)\n",
    "        mask = cv2.inRange(fltrd_frame, lth, hth) \n",
    "        offsets = ((200, -130), (350, -250))\n",
    "        msk = mask[offsets[0][0]:offsets[0][1],offsets[1][0]:offsets[1][1]]\n",
    "        msk = self.fill_holes(msk)\n",
    "        k2 = np.array([[-1, -1, -1],\n",
    "                            [-1, 8, -1],\n",
    "                            [-1, -1, -1]])\n",
    "        k1 = cv2.getStructuringElement(cv2.MORPH_ELLIPSE, (3,3))\n",
    "        contours = self.calc_contour(k1,k2,msk)      \n",
    "        for i in  range(len(contours)):   \n",
    "            p = cv2.arcLength(contours[i], True)\n",
    "            s = cv2.contourArea(contours[i]) \n",
    "            if (p > 20):\n",
    "                circ = 4*np.pi*s/(p**2)\n",
    "                if circ > 0.57:\n",
    "                    fingers_num += 1\n",
    "                    \n",
    "        return fingers_num\n",
    "    \n",
    "    \n",
    "    def skeletonize(self, img): \n",
    "        size = np.size(img)\n",
    "        skel = np.zeros(img.shape, np.uint8)\n",
    "\n",
    "        element = cv2.getStructuringElement(cv2.MORPH_CROSS, (3,3))\n",
    "\n",
    "        while True:\n",
    "            open = cv2.morphologyEx(img, cv2.MORPH_OPEN, element)\n",
    "            temp = cv2.subtract(img, open)\n",
    "            eroded = cv2.erode(img, element)\n",
    "            skel = cv2.bitwise_or(skel,temp)\n",
    "            img = eroded.copy()\n",
    "            \n",
    "            if cv2.countNonZero(img)==0:\n",
    "                break\n",
    "                \n",
    "        return skel\n",
    "  # YOUR CODE ABOVE"
   ]
  },
  {
   "cell_type": "code",
   "execution_count": 14,
   "id": "36feeab5",
   "metadata": {},
   "outputs": [
    {
     "name": "stdout",
     "output_type": "stream",
     "text": [
      "Cannot read frame\n",
      "Exiting loop\n",
      "[4, 5, 0, 1, 0, 3, 5, 5, 0, 0, 1, 5, 5, 5, 5, 3, 4, 3, 4, 4, 1, 2, 2, 1, 1, 2, 2, 2, 2, 0, 1, 0, 1, 0, 2, 2, 2, 1, 2, 3, 3, 4, 4, 3, 4, 4, 4, 5, 5, 5, 5, 5, 5, 5, 3, 2, 2, 2, 2, 1, 1, 2, 1, 2, 1, 2, 2, 2, 1, 2, 2, 2, 2, 3, 3, 2, 2, 3, 2, 2, 2, 3, 2, 2, 2, 2, 1, 2, 2, 1, 0, 0, 0, 0, 0, 0]\n"
     ]
    },
    {
     "data": {
      "text/plain": [
       "-1"
      ]
     },
     "execution_count": 14,
     "metadata": {},
     "output_type": "execute_result"
    }
   ],
   "source": [
    "cam = cv2.VideoCapture(video_file)\n",
    "finger_counter = FingersCounter()\n",
    "fingers_num = finger_counter.processing_loop(cam, lth, hth)\n",
    "\n",
    "print(fingers_num)\n",
    "\n",
    "cam.release()\n",
    "cv2.waitKey(0)\n",
    "cv2.destroyAllWindows()\n",
    "cv2.waitKey(100)"
   ]
  },
  {
   "cell_type": "markdown",
   "id": "d819025b",
   "metadata": {
    "id": "ec30ee1f"
   },
   "source": [
    "***\n",
    "\n",
    "<h2 style=\"color:#A7BD3F;\">Секция 4: оценивание</h2>\n",
    "\n",
    "Решение, дающее значения метрики *accuracy* *0.5* и более, оцениваются полным баллом с линейной интерполяцией в области меньших значений.\n",
    "\n",
    "Выполните эту клетку для получения своей оценки, изучите, как она была посчитана. Если в процессе выполнения задания появились вопросы или проблемы, пишите в чат или @elijahmipt в телеграме."
   ]
  },
  {
   "cell_type": "code",
   "execution_count": 15,
   "id": "80068c38",
   "metadata": {
    "id": "35ef2340",
    "outputId": "a6101c0a-e468-47d6-c006-0f987e6d8a25"
   },
   "outputs": [
    {
     "name": "stdout",
     "output_type": "stream",
     "text": [
      "correct  60  out of  96 0.625\n",
      "Your grade is  \u001b[92m100 out of 100; 60 frames out of 96\u001b[0m\n"
     ]
    }
   ],
   "source": [
    "reference_fingers_num = [5, 5, 1, 0, 0, 5, 5, 5, 0, 0, 0, 5, 5, 5, 5, 4, 3, 3,\\\n",
    "                         3, 3, 3, 3, 1, 1, 2, 2, 2, 2, 2, 1, 1, 1, 1, 1, 2, 2,\\\n",
    "                         2, 2, 2, 2, 3, 4, 4, 4, 4, 4, 4, 5, 5, 5, 5, 5, 5, 5,\\\n",
    "                         2, 2, 2, 2, 2, 1, 1, 1, 1, 2, 2, 2, 2, 2, 2, 2, 2, 2,\\\n",
    "                         2, 2, 1, 2, 2, 2, 1, 2, 2, 2, 1, 2, 1, 1, 1, 1, 1, 1,\\\n",
    "                         3, 4, 0, 0, 0, 1]\n",
    "\n",
    "max_grade = 100\n",
    "\n",
    "corr_num = 0\n",
    "\n",
    "for r, s in zip(reference_fingers_num, fingers_num):\n",
    "    if (r == s):\n",
    "        corr_num += 1\n",
    "\n",
    "acc = corr_num / len(reference_fingers_num)\n",
    "\n",
    "print(\"correct \", corr_num, \" out of \", len(reference_fingers_num),\n",
    "      corr_num / len(reference_fingers_num))\n",
    "\n",
    "grade = min(acc * 2, 1) * max_grade\n",
    "\n",
    "print(\"Your grade is \", \"\\033[92m{}\\033[0m\".format(str(int(grade)) +\\\n",
    "        \" out of \" + str(max_grade) + \"; \" + str(corr_num) + \" frames out of \"\n",
    "        + str(len(reference_fingers_num))))"
   ]
  }
 ],
 "metadata": {
  "colab": {
   "provenance": []
  },
  "kernelspec": {
   "display_name": "Python 3 (ipykernel)",
   "language": "python",
   "name": "python3"
  },
  "language_info": {
   "codemirror_mode": {
    "name": "ipython",
    "version": 3
   },
   "file_extension": ".py",
   "mimetype": "text/x-python",
   "name": "python",
   "nbconvert_exporter": "python",
   "pygments_lexer": "ipython3",
   "version": "3.10.4"
  }
 },
 "nbformat": 4,
 "nbformat_minor": 5
}
