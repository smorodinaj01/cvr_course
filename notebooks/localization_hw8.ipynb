{
 "cells": [
  {
   "cell_type": "markdown",
   "id": "acquired-accused",
   "metadata": {},
   "source": [
    "# Локализация. Упражнения"
   ]
  },
  {
   "cell_type": "markdown",
   "id": "electric-shannon",
   "metadata": {},
   "source": [
    "В этих упражнениях вам предлагается реализовать простые алгоритмы локализации роботов. На лекции, помимо фильтра частиц, были упомянуты методы триангуляции и альфа-бета фильтр. Давайте их реализуем: обе реализации должны быть сделаны в виде класса, у которого должен быть метод update. Метод update принимает на вход измеренения с камеры о положении ориентиров в сосбтвенной системе координат робота."
   ]
  },
  {
   "cell_type": "markdown",
   "id": "trained-funds",
   "metadata": {},
   "source": [
    "В качестве ориентиров будем использовать координаты стоек ворот. Для удобства будем пользоваться упрощенным вариантом, при котором ворота разных цветов. В словаре храняться положения стоек в глобальной системе координат (точка (0, 0) нахождится в центре поля)"
   ]
  },
  {
   "cell_type": "code",
   "execution_count": 1,
   "id": "artistic-holocaust",
   "metadata": {},
   "outputs": [],
   "source": [
    "landmarks = {\n",
    "    \"blue_posts\": [\n",
    "        [ -4.5, -1.0], [ -4.5, 1.0]\n",
    "    ],\n",
    "    \"yellow_posts\":[\n",
    "        [ 4.5, -1.0], [ 4.5, 1.0]\n",
    "    ]\n",
    "}"
   ]
  },
  {
   "cell_type": "code",
   "execution_count": 2,
   "id": "a7cd3550",
   "metadata": {},
   "outputs": [],
   "source": [
    "import numpy as np"
   ]
  },
  {
   "cell_type": "markdown",
   "id": "gross-browse",
   "metadata": {},
   "source": [
    "Пример данных, которые могут поступать в модуль на одном шаге всей системы. Данные во втором словаре – это данные одометрии с собвственной информацией робота о перемещении за один шаг системы. Для проверки работы придумайте и запишите набор данных с такой же структурой. "
   ]
  },
  {
   "cell_type": "code",
   "execution_count": 3,
   "id": "freelance-clothing",
   "metadata": {},
   "outputs": [],
   "source": [
    "observations = {\"yellow_posts\":[[4.45, -0.99],[4.49, 1.09]], \"blue_posts\":[]}\n",
    "shift = {'shift_x':0.0, 'shift_y':0.01, 'shift_angle':-0.4}"
   ]
  },
  {
   "cell_type": "markdown",
   "id": "behind-mouth",
   "metadata": {},
   "source": [
    "### 1) Реализовать локализацию триангуляцией (3 балл)\n",
    "    "
   ]
  },
  {
   "cell_type": "code",
   "execution_count": 4,
   "id": "6db8dcbb",
   "metadata": {},
   "outputs": [],
   "source": [
    "class Robot:\n",
    "    def __init__(self, x=0, y =0, yaw=0):\n",
    "        self.x = x\n",
    "        self.y = y\n",
    "        self.yaw = yaw\n",
    "    def set_coord(self, x, y, yaw):\n",
    "        self.x = float(x)\n",
    "        self.y = float(y)\n",
    "        self.yaw = float(yaw)\n",
    "    def move(self, x,y,yaw):\n",
    "        orientation = self.yaw + float(-yaw)\n",
    "        if orientation < 0:\n",
    "            orientation += math.pi *2\n",
    "        self.yaw =  orientation % (math.pi *2)\n",
    "        self.x += x*math.cos(self.yaw)\n",
    "        self.y += y*math.sin(self.yaw)"
   ]
  },
  {
   "cell_type": "code",
   "execution_count": 5,
   "id": "4fbe9d10",
   "metadata": {},
   "outputs": [],
   "source": [
    "class localization_triangulation:\n",
    "    def __init__(self, x_start, y_start):\n",
    "        self.x = x_start\n",
    "        self.y = y_start\n",
    "    \n",
    "    def update(self, distances):\n",
    "        def find_height_by_area(a,b,c):\n",
    "            sum1=a+b+c\n",
    "            return np.sqrt((sum1/2-a)*(sum1/2-b)*(sum1/2 - c)*2*sum1)/c\n",
    "            \n",
    "        def find_coordinates(distances,landmarks,yellow=True):\n",
    "            a = distances[0]\n",
    "            b = distances[1]\n",
    "            l = landmarks[1][1] - landmarks[0][1]\n",
    "            h=find_height_by_area(a,b,l)\n",
    "            \n",
    "            y = landmarks[0][0] - h if yellow else  landmarks[0][0] + h\n",
    "            x= landmarks[0][1] - np.sqrt((a**2 - h**2)) if (b**2 > l**2 + a**2) else landmarks[1][1] +np.sqrt((b**2 - h**2))\n",
    "            bool_b_a=  b**2 > l**2 + a**2\n",
    "            bool_a_b= a**2 > l**2 + b**2\n",
    "            x= x if (bool_a_b or bool_b_a) else landmarks[0][1]+np.sqrt((a**2 - h**2))\n",
    "            return x,y\n",
    "            \n",
    "        if not distances[\"yellow_posts\"]:\n",
    "            self.x,self.y=find_coordinates(distances[\"blue_posts\"],landmarks[\"blue_posts\"],yellow=False)\n",
    "        else:\n",
    "            self.x,self.y=find_coordinates(distances[\"yellow_posts\"],landmarks[\"yellow_posts\"])"
   ]
  },
  {
   "cell_type": "code",
   "execution_count": 6,
   "id": "72cbf1f0",
   "metadata": {},
   "outputs": [],
   "source": [
    "def distances_from_positions(positions):\n",
    "    dst_yellow1=np.linalg.norm(positions-landmarks[\"yellow_posts\"][0])\n",
    "    dst_yellow2=np.linalg.norm(positions-landmarks[\"yellow_posts\"][1])\n",
    "    dst_blue1=np.linalg.norm(positions-landmarks[\"blue_posts\"][0])\n",
    "    dst_blue2=np.linalg.norm(positions-landmarks[\"blue_posts\"][1])\n",
    "    \n",
    "    return {\"yellow_posts\": [dst_yellow1, dst_yellow2], \"blue_posts\": [dst_blue1, dst_blue2]}"
   ]
  },
  {
   "cell_type": "code",
   "execution_count": 7,
   "id": "c954f924",
   "metadata": {},
   "outputs": [
    {
     "name": "stdout",
     "output_type": "stream",
     "text": [
      "True True\n"
     ]
    }
   ],
   "source": [
    "x0=1\n",
    "y0=1\n",
    "positions1 = np.array([y0,x0]) #(np.array(y,x))\n",
    "distances1 = distances_from_positions(positions1)\n",
    "distances1[\"yellow_posts\"] = []\n",
    "Robot = localization_triangulation(0, 0)\n",
    "Robot.update(distances1)\n",
    "print(Robot.x==x0, Robot.y==y0)\n"
   ]
  },
  {
   "cell_type": "markdown",
   "id": "freelance-messaging",
   "metadata": {},
   "source": [
    "### 2) Дополнить предыдущий пункт до альфа-бета фильтра (5 балла)"
   ]
  },
  {
   "cell_type": "code",
   "execution_count": 8,
   "id": "c66d4c43",
   "metadata": {},
   "outputs": [],
   "source": [
    "class localization_alphabeta:\n",
    "    \n",
    "    def __init__(self, x_start, y_start, alpha, beta):\n",
    "        self.x = x_start\n",
    "        self.y = y_start\n",
    "        self.local_tri =localization_triangulation(x_start, y_start)\n",
    "        self.alpha = alpha\n",
    "        self.beta = beta\n",
    "    \n",
    "    def update(self, distances, shift):\n",
    "        self.local_tri.update(distances)\n",
    "        self.x = self.alpha*self.local_tri.x + self.beta*(self.x+shift[\"x\"])\n",
    "        self.y = self.alpha*self.local_tri.y + self.beta*(self.y+shift[\"x\"])"
   ]
  },
  {
   "cell_type": "markdown",
   "id": "vanilla-documentary",
   "metadata": {},
   "source": [
    "### 3) *Дополнительно* Добавьте визуализацию вида сверху  (2 балла)"
   ]
  },
  {
   "cell_type": "markdown",
   "id": "polyphonic-extension",
   "metadata": {},
   "source": [
    "Например на OpenCV или Matplotlib, например так как было в семинаре, чтобы можно было удобно посмотреть на работу модуля.\n"
   ]
  },
  {
   "attachments": {
    "image.png": {
     "image/png": "[encoded data removed]"
    }
   },
   "cell_type": "markdown",
   "id": "olive-honey",
   "metadata": {},
   "source": [
    "![image.png](attachment:image.png)"
   ]
  }
 ],
 "metadata": {
  "kernelspec": {
   "display_name": "Python 3 (ipykernel)",
   "language": "python",
   "name": "python3"
  },
  "language_info": {
   "codemirror_mode": {
    "name": "ipython",
    "version": 3
   },
   "file_extension": ".py",
   "mimetype": "text/x-python",
   "name": "python",
   "nbconvert_exporter": "python",
   "pygments_lexer": "ipython3",
   "version": "3.10.4"
  }
 },
 "nbformat": 4,
 "nbformat_minor": 5
}
